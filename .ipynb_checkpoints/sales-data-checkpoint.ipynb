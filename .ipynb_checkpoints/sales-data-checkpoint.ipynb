{
 "cells": [
  {
   "cell_type": "code",
   "execution_count": 9,
   "id": "b8bfc141-0e97-4364-89ca-d577f8dccb3b",
   "metadata": {},
   "outputs": [
    {
     "name": "stdout",
     "output_type": "stream",
     "text": [
      "      invoice_no  customer_id         category  quantity    price  \\\n",
      "0        I138884          229         Clothing         5  1500.40   \n",
      "1        I317333         3433            Shoes         3  1800.51   \n",
      "2        I127801          644         Clothing         1   300.08   \n",
      "3        I173702         4900            Shoes         5  3000.85   \n",
      "4        I337046         1089            Books         4    60.60   \n",
      "...          ...          ...              ...       ...      ...   \n",
      "99452    I219422         2344         Souvenir         5    58.65   \n",
      "99453    I325143          172  Food & Beverage         2    10.46   \n",
      "99454    I824010          425  Food & Beverage         2    10.46   \n",
      "99455    I702964          577       Technology         4  4200.00   \n",
      "99456    I232867           30         Souvenir         3    35.19   \n",
      "\n",
      "      payment_method invoice_date     shopping_mall  \n",
      "0        Credit Card     5/8/2022            Kanyon  \n",
      "1         Debit Card   12/12/2021    Forum Istanbul  \n",
      "2               Cash    9/11/2021         Metrocity  \n",
      "3        Credit Card   16/05/2021      Metropol AVM  \n",
      "4               Cash   24/10/2021            Kanyon  \n",
      "...              ...          ...               ...  \n",
      "99452    Credit Card   21/09/2022            Kanyon  \n",
      "99453           Cash   22/09/2021    Forum Istanbul  \n",
      "99454     Debit Card   28/03/2021         Metrocity  \n",
      "99455           Cash   16/03/2021      Istinye Park  \n",
      "99456    Credit Card   15/10/2022  Mall of Istanbul  \n",
      "\n",
      "[99457 rows x 8 columns]\n",
      "       age first_name gender     id last_name\n",
      "0     48.0   Nicholas      M      0    Flores\n",
      "1      NaN    Jeffery      M      1      Rowe\n",
      "2     57.0     Alexis      F      2    Benton\n",
      "3     73.0        Amy      F      3   Johnson\n",
      "4     20.0      David      M      4     Moore\n",
      "...    ...        ...    ...    ...       ...\n",
      "5186   NaN     Arthur      M   9428    Harris\n",
      "5187   NaN      David      M   9494       Roy\n",
      "5188  85.0     Thomas      M  10350    Turner\n",
      "5189   NaN      April      F  10587   Sanchez\n",
      "5190   NaN     Andrew      M  10934   Compton\n",
      "\n",
      "[5191 rows x 5 columns]\n"
     ]
    }
   ],
   "source": [
    "import pandas as pd\n",
    "data1 = pd.read_csv('fct_invoice.csv')\n",
    "data2 = pd.read_json('dim_customer.json')\n",
    "print(data1)\n",
    "print(data2)"
   ]
  },
  {
   "cell_type": "markdown",
   "id": "a1646d94-1a82-47dd-9115-9d4ebf847502",
   "metadata": {},
   "source": [
    "1. How many unique customers are in the dataset?"
   ]
  },
  {
   "cell_type": "code",
   "execution_count": 13,
   "id": "0e6112b1-c06e-43b9-8b4e-ddddbdc7fe9b",
   "metadata": {},
   "outputs": [
    {
     "data": {
      "text/plain": [
       "5191"
      ]
     },
     "execution_count": 13,
     "metadata": {},
     "output_type": "execute_result"
    }
   ],
   "source": [
    "unique_customers = data1['customer_id'].nunique()\n",
    "unique_customers"
   ]
  },
  {
   "cell_type": "markdown",
   "id": "3723af3a-d666-489f-9df0-2995e333ee0e",
   "metadata": {},
   "source": [
    "2. What are the different categories of products available? How many unique categories are there?"
   ]
  },
  {
   "cell_type": "code",
   "execution_count": 15,
   "id": "05a604a9-b33d-4cd6-9ac5-95fc3228bbc0",
   "metadata": {},
   "outputs": [
    {
     "data": {
      "text/plain": [
       "(array(['Clothing', 'Shoes', 'Books', 'Cosmetics', 'Food & Beverage',\n",
       "        'Toys', 'Technology', 'Souvenir'], dtype=object),\n",
       " 8)"
      ]
     },
     "execution_count": 15,
     "metadata": {},
     "output_type": "execute_result"
    }
   ],
   "source": [
    "unique_categories = data1['category'].unique()\n",
    "unique_category_count = len(unique_categories)\n",
    "unique_categories, unique_category_count"
   ]
  },
  {
   "cell_type": "markdown",
   "id": "99676ea5-8b63-45f1-b52e-8cada259bb29",
   "metadata": {},
   "source": [
    "3. Which payment method is the most popular? How many times was it used?"
   ]
  },
  {
   "cell_type": "code",
   "execution_count": 17,
   "id": "c6f54cd4-6135-44a4-9e2a-03a5e588ff0c",
   "metadata": {},
   "outputs": [
    {
     "data": {
      "text/plain": [
       "('Cash', 44447)"
      ]
     },
     "execution_count": 17,
     "metadata": {},
     "output_type": "execute_result"
    }
   ],
   "source": [
    "payment_method_counts = data1['payment_method'].value_counts()\n",
    "most_popular_payment_method = payment_method_counts.idxmax()\n",
    "most_popular_payment_method_count = payment_method_counts.max()\n",
    "\n",
    "most_popular_payment_method, most_popular_payment_method_count"
   ]
  },
  {
   "cell_type": "markdown",
   "id": "4d0adefc-b0c9-4835-b247-6dfec0951de9",
   "metadata": {},
   "source": [
    "1. What are the three most popular categories, by total sales?"
   ]
  },
  {
   "cell_type": "code",
   "execution_count": 19,
   "id": "617f5df2-18ee-4f15-b201-6af7f3c14f32",
   "metadata": {},
   "outputs": [
    {
     "data": {
      "text/plain": [
       "category\n",
       "Clothing      1.139968e+08\n",
       "Shoes         6.655345e+07\n",
       "Technology    5.786235e+07\n",
       "Name: total_sales, dtype: float64"
      ]
     },
     "execution_count": 19,
     "metadata": {},
     "output_type": "execute_result"
    }
   ],
   "source": [
    "data1['total_sales'] = data1['quantity'] * data1['price']\n",
    "category_sales = data1.groupby('category')['total_sales'].sum().sort_values(ascending=False)\n",
    "top_three_categories = category_sales.head(3)\n",
    "\n",
    "top_three_categories"
   ]
  },
  {
   "cell_type": "markdown",
   "id": "f942d352-74ba-4b24-a93e-19d871332da5",
   "metadata": {},
   "source": [
    "2. What are the total sales attributed to customers over the age of 45?"
   ]
  },
  {
   "cell_type": "code",
   "execution_count": 29,
   "id": "ea6767fb-fcb2-4359-92b4-47587f9b1818",
   "metadata": {},
   "outputs": [
    {
     "data": {
      "text/plain": [
       "82039768.15"
      ]
     },
     "execution_count": 29,
     "metadata": {},
     "output_type": "execute_result"
    }
   ],
   "source": [
    "customer_df = pd.DataFrame(data2)\n",
    "customer_df.head()\n",
    "data1['customer_id'] = data1['customer_id'].astype(int)\n",
    "customer_df['id'] = customer_df['id'].astype(int)\n",
    "merged_data = pd.merge(data1, customer_df, left_on='customer_id', right_on='id', how='left')\n",
    "over_45_data = merged_data[merged_data['age'] > 45]\n",
    "total_sales_over_45 = over_45_data['total_sales'].sum()\n",
    "total_sales_over_45"
   ]
  },
  {
   "cell_type": "markdown",
   "id": "de813500-73f8-482e-a032-642c1b79443e",
   "metadata": {},
   "source": [
    "3. How is the data distributed across different invoice dates? Are there any seasonal trends or patterns? (Use a graph for this.)"
   ]
  },
  {
   "cell_type": "markdown",
   "id": "9cd77337-0fad-4d35-93a6-52bf0ead8ad7",
   "metadata": {},
   "source": [
    "1. Create a pivot table showing the breakdown of sales across these dimensions, in this order: category, decade age range (e.g., 10-19, 20-29, and so forth)."
   ]
  },
  {
   "cell_type": "code",
   "execution_count": 37,
   "id": "5eb7955b-1d88-4244-8bd2-02b8f2d40fb3",
   "metadata": {},
   "outputs": [
    {
     "data": {
      "text/html": [
       "<div>\n",
       "<style scoped>\n",
       "    .dataframe tbody tr th:only-of-type {\n",
       "        vertical-align: middle;\n",
       "    }\n",
       "\n",
       "    .dataframe tbody tr th {\n",
       "        vertical-align: top;\n",
       "    }\n",
       "\n",
       "    .dataframe thead th {\n",
       "        text-align: right;\n",
       "    }\n",
       "</style>\n",
       "<table border=\"1\" class=\"dataframe\">\n",
       "  <thead>\n",
       "    <tr style=\"text-align: right;\">\n",
       "      <th>decade_age</th>\n",
       "      <th>10-19</th>\n",
       "      <th>20-29</th>\n",
       "      <th>30-39</th>\n",
       "      <th>40-49</th>\n",
       "      <th>50-59</th>\n",
       "      <th>60-69</th>\n",
       "      <th>70-79</th>\n",
       "      <th>80-89</th>\n",
       "      <th>Unknown</th>\n",
       "    </tr>\n",
       "    <tr>\n",
       "      <th>category</th>\n",
       "      <th></th>\n",
       "      <th></th>\n",
       "      <th></th>\n",
       "      <th></th>\n",
       "      <th></th>\n",
       "      <th></th>\n",
       "      <th></th>\n",
       "      <th></th>\n",
       "      <th></th>\n",
       "    </tr>\n",
       "  </thead>\n",
       "  <tbody>\n",
       "    <tr>\n",
       "      <th>Books</th>\n",
       "      <td>12801.75</td>\n",
       "      <td>79461.75</td>\n",
       "      <td>84143.10</td>\n",
       "      <td>87203.40</td>\n",
       "      <td>74962.20</td>\n",
       "      <td>80476.80</td>\n",
       "      <td>54827.85</td>\n",
       "      <td>26664.00</td>\n",
       "      <td>334012.05</td>\n",
       "    </tr>\n",
       "    <tr>\n",
       "      <th>Clothing</th>\n",
       "      <td>1927413.84</td>\n",
       "      <td>10250732.80</td>\n",
       "      <td>11354126.96</td>\n",
       "      <td>11215189.92</td>\n",
       "      <td>10321851.76</td>\n",
       "      <td>10660642.08</td>\n",
       "      <td>7769371.28</td>\n",
       "      <td>4493698.00</td>\n",
       "      <td>46003764.40</td>\n",
       "    </tr>\n",
       "    <tr>\n",
       "      <th>Cosmetics</th>\n",
       "      <td>109619.36</td>\n",
       "      <td>605915.32</td>\n",
       "      <td>723544.70</td>\n",
       "      <td>665034.96</td>\n",
       "      <td>587780.96</td>\n",
       "      <td>649990.76</td>\n",
       "      <td>419082.62</td>\n",
       "      <td>254531.60</td>\n",
       "      <td>2777362.62</td>\n",
       "    </tr>\n",
       "    <tr>\n",
       "      <th>Food &amp; Beverage</th>\n",
       "      <td>13582.31</td>\n",
       "      <td>73491.96</td>\n",
       "      <td>87246.86</td>\n",
       "      <td>89553.29</td>\n",
       "      <td>72425.04</td>\n",
       "      <td>80976.09</td>\n",
       "      <td>55050.98</td>\n",
       "      <td>31332.93</td>\n",
       "      <td>345875.59</td>\n",
       "    </tr>\n",
       "    <tr>\n",
       "      <th>Shoes</th>\n",
       "      <td>993281.35</td>\n",
       "      <td>5924878.24</td>\n",
       "      <td>7200839.66</td>\n",
       "      <td>7025590.02</td>\n",
       "      <td>5852857.84</td>\n",
       "      <td>5978893.54</td>\n",
       "      <td>4480269.05</td>\n",
       "      <td>2628744.60</td>\n",
       "      <td>26468097.17</td>\n",
       "    </tr>\n",
       "    <tr>\n",
       "      <th>Souvenir</th>\n",
       "      <td>12375.15</td>\n",
       "      <td>54943.32</td>\n",
       "      <td>64092.72</td>\n",
       "      <td>66391.80</td>\n",
       "      <td>54943.32</td>\n",
       "      <td>55025.43</td>\n",
       "      <td>38673.81</td>\n",
       "      <td>23718.06</td>\n",
       "      <td>265661.04</td>\n",
       "    </tr>\n",
       "    <tr>\n",
       "      <th>Technology</th>\n",
       "      <td>1129800.00</td>\n",
       "      <td>5261550.00</td>\n",
       "      <td>6159300.00</td>\n",
       "      <td>5954550.00</td>\n",
       "      <td>4435200.00</td>\n",
       "      <td>5471550.00</td>\n",
       "      <td>3638250.00</td>\n",
       "      <td>1946700.00</td>\n",
       "      <td>23865450.00</td>\n",
       "    </tr>\n",
       "    <tr>\n",
       "      <th>Toys</th>\n",
       "      <td>60426.24</td>\n",
       "      <td>385100.80</td>\n",
       "      <td>420582.40</td>\n",
       "      <td>390906.88</td>\n",
       "      <td>345067.52</td>\n",
       "      <td>363955.20</td>\n",
       "      <td>273244.16</td>\n",
       "      <td>153932.80</td>\n",
       "      <td>1587210.24</td>\n",
       "    </tr>\n",
       "  </tbody>\n",
       "</table>\n",
       "</div>"
      ],
      "text/plain": [
       "decade_age            10-19        20-29        30-39        40-49  \\\n",
       "category                                                             \n",
       "Books              12801.75     79461.75     84143.10     87203.40   \n",
       "Clothing         1927413.84  10250732.80  11354126.96  11215189.92   \n",
       "Cosmetics         109619.36    605915.32    723544.70    665034.96   \n",
       "Food & Beverage    13582.31     73491.96     87246.86     89553.29   \n",
       "Shoes             993281.35   5924878.24   7200839.66   7025590.02   \n",
       "Souvenir           12375.15     54943.32     64092.72     66391.80   \n",
       "Technology       1129800.00   5261550.00   6159300.00   5954550.00   \n",
       "Toys               60426.24    385100.80    420582.40    390906.88   \n",
       "\n",
       "decade_age             50-59        60-69       70-79       80-89      Unknown  \n",
       "category                                                                        \n",
       "Books               74962.20     80476.80    54827.85    26664.00    334012.05  \n",
       "Clothing         10321851.76  10660642.08  7769371.28  4493698.00  46003764.40  \n",
       "Cosmetics          587780.96    649990.76   419082.62   254531.60   2777362.62  \n",
       "Food & Beverage     72425.04     80976.09    55050.98    31332.93    345875.59  \n",
       "Shoes             5852857.84   5978893.54  4480269.05  2628744.60  26468097.17  \n",
       "Souvenir            54943.32     55025.43    38673.81    23718.06    265661.04  \n",
       "Technology        4435200.00   5471550.00  3638250.00  1946700.00  23865450.00  \n",
       "Toys               345067.52    363955.20   273244.16   153932.80   1587210.24  "
      ]
     },
     "execution_count": 37,
     "metadata": {},
     "output_type": "execute_result"
    }
   ],
   "source": [
    "customer_df['decade_age'] = customer_df['age'].apply(lambda x: f\"{int(x//10)*10}-{int(x//10)*10 + 9}\" if pd.notna(x) else 'Unknown')\n",
    "full_data = pd.merge(data1, customer_df[['id', 'decade_age']], left_on='customer_id', right_on='id', how='left')\n",
    "pivot_table_sales = full_data.pivot_table(values='total_sales', index='category', columns='decade_age', aggfunc='sum', fill_value=0)\n",
    "pivot_table_sales\n"
   ]
  },
  {
   "cell_type": "code",
   "execution_count": null,
   "id": "7062582a-7d99-4fd2-841b-2ad23548d9e2",
   "metadata": {},
   "outputs": [],
   "source": []
  }
 ],
 "metadata": {
  "kernelspec": {
   "display_name": "Python 3 (ipykernel)",
   "language": "python",
   "name": "python3"
  },
  "language_info": {
   "codemirror_mode": {
    "name": "ipython",
    "version": 3
   },
   "file_extension": ".py",
   "mimetype": "text/x-python",
   "name": "python",
   "nbconvert_exporter": "python",
   "pygments_lexer": "ipython3",
   "version": "3.11.7"
  }
 },
 "nbformat": 4,
 "nbformat_minor": 5
}
